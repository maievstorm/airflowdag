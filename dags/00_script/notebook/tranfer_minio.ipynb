{
 "cells": [
  {
   "cell_type": "code",
   "execution_count": 1,
   "id": "18bc4139",
   "metadata": {},
   "outputs": [],
   "source": [
    "import pyspark as ps\n",
    "import os\n",
    "from io import BytesIO\n",
    "from pyspark.sql import SparkSession, Row\n",
    "from minio import Minio\n",
    "import pandas as pd\n"
   ]
  },
  {
   "cell_type": "code",
   "execution_count": 2,
   "id": "1e31e1ac",
   "metadata": {},
   "outputs": [],
   "source": [
    "client = Minio(\n",
    "    \"dpaojs-minio:9000\",\n",
    "    access_key=\"1KRRD3sPGFbCzQ1A\",\n",
    "    secret_key=\"sAqIHDbSLHDqH5dJhhdfjaO260tx5Vn8\",\n",
    "    secure = False\n",
    "    )"
   ]
  },
  {
   "cell_type": "code",
   "execution_count": 3,
   "id": "a2439988",
   "metadata": {},
   "outputs": [],
   "source": [
    "obj = client.get_object(\n",
    "    \"dsojs\",\n",
    "    \"cdpcn/emp.csv\",\n",
    ")"
   ]
  },
  {
   "cell_type": "code",
   "execution_count": 4,
   "id": "749a972f",
   "metadata": {},
   "outputs": [],
   "source": [
    "df = pd.read_csv(obj)"
   ]
  },
  {
   "cell_type": "code",
   "execution_count": 5,
   "id": "bc6061d3",
   "metadata": {},
   "outputs": [
    {
     "data": {
      "text/plain": [
       "<minio.helpers.ObjectWriteResult at 0x7f892399a990>"
      ]
     },
     "execution_count": 5,
     "metadata": {},
     "output_type": "execute_result"
    }
   ],
   "source": [
    "csv = df.to_csv().encode('utf-8')\n",
    "client.put_object(\n",
    "    \"storage01\",\n",
    "    \"cdpcn/test.csv\",\n",
    "    data=BytesIO(csv),\n",
    "    length=len(csv),\n",
    "    content_type='application/csv'\n",
    ")"
   ]
  },
  {
   "cell_type": "code",
   "execution_count": null,
   "id": "4dc3a352",
   "metadata": {},
   "outputs": [],
   "source": []
  }
 ],
 "metadata": {
  "kernelspec": {
   "display_name": "Python 3 (ipykernel)",
   "language": "python",
   "name": "python3"
  },
  "language_info": {
   "codemirror_mode": {
    "name": "ipython",
    "version": 3
   },
   "file_extension": ".py",
   "mimetype": "text/x-python",
   "name": "python",
   "nbconvert_exporter": "python",
   "pygments_lexer": "ipython3",
   "version": "3.7.11"
  }
 },
 "nbformat": 4,
 "nbformat_minor": 5
}
